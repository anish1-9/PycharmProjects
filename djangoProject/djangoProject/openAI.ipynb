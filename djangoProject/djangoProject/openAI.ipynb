{
 "cells": [
  {
   "cell_type": "code",
   "execution_count": null,
   "metadata": {
    "collapsed": true,
    "is_executing": true
   },
   "outputs": [],
   "source": [
    "import PyPDF2\n",
    "\n",
    "def pdf_to_text(pdf_path, text_path):\n",
    "    with open(pdf_path, 'rb') as pdf_file:\n",
    "        reader = PyPDF2.PdfFileReader(pdf_file)\n",
    "        text = \"\"\n",
    "        for page_num in range(reader.numPages):\n",
    "            page = reader.getPage(page_num)\n",
    "            text += page.extractText()\n",
    "\n",
    "    with open(text_path, 'w', encoding='utf-8') as text_file:\n",
    "        text_file.write(text)\n",
    "\n",
    "    print(f\"Successfully converted '{pdf_path}' to '{text_path}'.\")\n",
    "\n",
    "# Provide the paths for the PDF file and the desired output text file\n",
    "pdf_path = 'path/to/your/pdf/file.pdf'\n",
    "text_path = 'path/to/save/text/file.txt'\n",
    "\n",
    "pdf_to_text(pdf_path, text_path)\n"
   ]
  },
  {
   "cell_type": "code",
   "execution_count": null,
   "outputs": [],
   "source": [],
   "metadata": {
    "collapsed": false
   }
  }
 ],
 "metadata": {
  "kernelspec": {
   "display_name": "Python 3",
   "language": "python",
   "name": "python3"
  },
  "language_info": {
   "codemirror_mode": {
    "name": "ipython",
    "version": 2
   },
   "file_extension": ".py",
   "mimetype": "text/x-python",
   "name": "python",
   "nbconvert_exporter": "python",
   "pygments_lexer": "ipython2",
   "version": "2.7.6"
  }
 },
 "nbformat": 4,
 "nbformat_minor": 0
}
